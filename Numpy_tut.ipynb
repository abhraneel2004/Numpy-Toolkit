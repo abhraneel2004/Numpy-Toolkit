{
 "cells": [
  {
   "cell_type": "markdown",
   "id": "c4c7b8ad-ee1f-44e0-8a2e-be863aee53b1",
   "metadata": {},
   "source": [
    "# Welcome to Numpy Tutorial"
   ]
  },
  {
   "cell_type": "code",
   "execution_count": 1,
   "id": "48aed74d-2ed7-44c1-9841-775068794faf",
   "metadata": {},
   "outputs": [],
   "source": [
    "import numpy as np"
   ]
  },
  {
   "cell_type": "code",
   "execution_count": 2,
   "id": "ab775a66-d950-4a2c-88dc-6713009258de",
   "metadata": {},
   "outputs": [],
   "source": [
    "myarr = np.array([[3,4,5,6]] , np.int8) "
   ]
  },
  {
   "cell_type": "raw",
   "id": "2db75103-d6b1-4681-b33c-05d149e0dedf",
   "metadata": {},
   "source": [
    "np.int8 is used to have integer 8 bit data"
   ]
  },
  {
   "cell_type": "code",
   "execution_count": 3,
   "id": "15d63baa-adea-409c-ab13-d3d5f5d07c47",
   "metadata": {},
   "outputs": [
    {
     "data": {
      "text/plain": [
       "array([[3, 4, 5, 6]], dtype=int8)"
      ]
     },
     "execution_count": 3,
     "metadata": {},
     "output_type": "execute_result"
    }
   ],
   "source": [
    "myarr"
   ]
  },
  {
   "cell_type": "code",
   "execution_count": 4,
   "id": "bbe31cd6-f8a7-465a-89c5-c33ae0635fa7",
   "metadata": {},
   "outputs": [
    {
     "data": {
      "text/plain": [
       "4"
      ]
     },
     "execution_count": 4,
     "metadata": {},
     "output_type": "execute_result"
    }
   ],
   "source": [
    "myarr[0,1]"
   ]
  },
  {
   "cell_type": "raw",
   "id": "97889474-328f-472b-b4e9-b109b7450dd9",
   "metadata": {},
   "source": [
    "we can use this for memory management"
   ]
  },
  {
   "cell_type": "code",
   "execution_count": 5,
   "id": "4ec6c080-796f-43cc-a2ae-62056e88d019",
   "metadata": {},
   "outputs": [
    {
     "data": {
      "text/plain": [
       "(1, 4)"
      ]
     },
     "execution_count": 5,
     "metadata": {},
     "output_type": "execute_result"
    }
   ],
   "source": [
    "myarr.shape"
   ]
  },
  {
   "cell_type": "raw",
   "id": "5542857c-d2a8-424a-bd3b-f57a4f57a061",
   "metadata": {},
   "source": [
    "This helps to see the dimension of an array (the no. of rows and columns)"
   ]
  },
  {
   "cell_type": "code",
   "execution_count": 6,
   "id": "fc64885f-0622-4d0c-8549-b3ac996215f1",
   "metadata": {},
   "outputs": [
    {
     "data": {
      "text/plain": [
       "dtype('int8')"
      ]
     },
     "execution_count": 6,
     "metadata": {},
     "output_type": "execute_result"
    }
   ],
   "source": [
    "myarr.dtype"
   ]
  },
  {
   "cell_type": "raw",
   "id": "2d1e59ea-615e-4321-83b6-b357bcb36dd8",
   "metadata": {},
   "source": [
    "it shows the data type and memory storage used by data cells. Search = numpy types reference"
   ]
  },
  {
   "cell_type": "code",
   "execution_count": 7,
   "id": "7ef08665-3e43-4163-85ce-c093a925a9ec",
   "metadata": {},
   "outputs": [
    {
     "data": {
      "text/plain": [
       "array([[3, 4, 5, 6]], dtype=int8)"
      ]
     },
     "execution_count": 7,
     "metadata": {},
     "output_type": "execute_result"
    }
   ],
   "source": [
    "myarr"
   ]
  },
  {
   "cell_type": "code",
   "execution_count": 8,
   "id": "3d4690a7-7e5f-48bd-9144-8e414d151a1b",
   "metadata": {},
   "outputs": [],
   "source": [
    "myarr[0,2] = 69"
   ]
  },
  {
   "cell_type": "raw",
   "id": "d8964175-a2ee-432a-85ad-0f7a31c1862e",
   "metadata": {},
   "source": [
    "This will change the data in numpy array"
   ]
  },
  {
   "cell_type": "code",
   "execution_count": 9,
   "id": "81b510ce-0884-4e73-ba57-df9844dbb2b5",
   "metadata": {},
   "outputs": [
    {
     "data": {
      "text/plain": [
       "array([[ 3,  4, 69,  6]], dtype=int8)"
      ]
     },
     "execution_count": 9,
     "metadata": {},
     "output_type": "execute_result"
    }
   ],
   "source": [
    "myarr"
   ]
  },
  {
   "cell_type": "code",
   "execution_count": 10,
   "id": "87e765e5-f0e0-4f14-b947-1b3bf98f88e5",
   "metadata": {},
   "outputs": [],
   "source": [
    "arr2 = np.array([[1,2,3],[4,5,6],[7,8,9]])"
   ]
  },
  {
   "cell_type": "code",
   "execution_count": 11,
   "id": "f96e48af-a7fd-48cc-8eb1-56189cdb3ae9",
   "metadata": {},
   "outputs": [
    {
     "data": {
      "text/plain": [
       "(3, 3)"
      ]
     },
     "execution_count": 11,
     "metadata": {},
     "output_type": "execute_result"
    }
   ],
   "source": [
    "arr2.shape"
   ]
  },
  {
   "cell_type": "code",
   "execution_count": 12,
   "id": "0ec10e53-ee7b-4a18-9eb1-e3804d2ddb6d",
   "metadata": {},
   "outputs": [
    {
     "name": "stdout",
     "output_type": "stream",
     "text": [
      "15\n"
     ]
    }
   ],
   "source": [
    "sum = 0\n",
    "for i in range(3):\n",
    "    sum+=arr2[i,i]\n",
    "print(sum)"
   ]
  },
  {
   "cell_type": "raw",
   "id": "08c6e7fc-dac5-48f0-a345-b74af57d9b34",
   "metadata": {},
   "source": [
    "In this way we can access diagonal elements of a 3x3 matrix"
   ]
  },
  {
   "cell_type": "code",
   "execution_count": 13,
   "id": "7f9cdd53-daf4-4a4c-b858-1d3b0920df40",
   "metadata": {},
   "outputs": [
    {
     "data": {
      "text/plain": [
       "9"
      ]
     },
     "execution_count": 13,
     "metadata": {},
     "output_type": "execute_result"
    }
   ],
   "source": [
    "arr2.size"
   ]
  },
  {
   "cell_type": "code",
   "execution_count": 14,
   "id": "2d33543d-ba74-4b04-a9e7-e59e3da3369e",
   "metadata": {},
   "outputs": [
    {
     "data": {
      "text/plain": [
       "array({1, 2, 3, 5}, dtype=object)"
      ]
     },
     "execution_count": 14,
     "metadata": {},
     "output_type": "execute_result"
    }
   ],
   "source": [
    "np.array({1,2,3,5})"
   ]
  },
  {
   "cell_type": "code",
   "execution_count": 15,
   "id": "23a0b766-d217-4a78-9ac5-a5c5a7c3b0aa",
   "metadata": {},
   "outputs": [],
   "source": [
    "zeroes = np.zeros((2,5))"
   ]
  },
  {
   "cell_type": "code",
   "execution_count": 16,
   "id": "89bdfb2a-8b98-4da4-b372-3f780ad96e0e",
   "metadata": {},
   "outputs": [
    {
     "data": {
      "text/plain": [
       "array([[0., 0., 0., 0., 0.],\n",
       "       [0., 0., 0., 0., 0.]])"
      ]
     },
     "execution_count": 16,
     "metadata": {},
     "output_type": "execute_result"
    }
   ],
   "source": [
    "zeroes"
   ]
  },
  {
   "cell_type": "code",
   "execution_count": 17,
   "id": "ab57ad4f-83a2-4f15-8922-56f75e192709",
   "metadata": {},
   "outputs": [],
   "source": [
    "x = np.array([1,2,3])"
   ]
  },
  {
   "cell_type": "code",
   "execution_count": 18,
   "id": "fa6fe851-fcc0-46ab-a605-5767bdc305a7",
   "metadata": {},
   "outputs": [
    {
     "data": {
      "text/plain": [
       "array([1, 2, 3])"
      ]
     },
     "execution_count": 18,
     "metadata": {},
     "output_type": "execute_result"
    }
   ],
   "source": [
    "x"
   ]
  },
  {
   "cell_type": "code",
   "execution_count": 19,
   "id": "23934b7d-8c1b-4fb1-8347-070ce5e7ba34",
   "metadata": {},
   "outputs": [
    {
     "name": "stdout",
     "output_type": "stream",
     "text": [
      "[[0.+0.j 0.+0.j 0.+0.j]\n",
      " [0.+0.j 0.+0.j 0.+0.j]\n",
      " [0.+0.j 0.+0.j 0.+0.j]]\n"
     ]
    }
   ],
   "source": [
    "x = np.empty((3,3), dtype = complex)\n",
    "print(x)"
   ]
  },
  {
   "cell_type": "code",
   "execution_count": 20,
   "id": "f41529c4-e577-4e8f-a207-952c9395d9c5",
   "metadata": {},
   "outputs": [
    {
     "name": "stdout",
     "output_type": "stream",
     "text": [
      "['ALLOW_THREADS', 'BUFSIZE', 'CLIP', 'DataSource', 'ERR_CALL', 'ERR_DEFAULT', 'ERR_IGNORE', 'ERR_LOG', 'ERR_PRINT', 'ERR_RAISE', 'ERR_WARN', 'FLOATING_POINT_SUPPORT', 'FPE_DIVIDEBYZERO', 'FPE_INVALID', 'FPE_OVERFLOW', 'FPE_UNDERFLOW', 'False_', 'Inf', 'Infinity', 'MAXDIMS', 'MAY_SHARE_BOUNDS', 'MAY_SHARE_EXACT', 'NAN', 'NINF', 'NZERO', 'NaN', 'PINF', 'PZERO', 'RAISE', 'RankWarning', 'SHIFT_DIVIDEBYZERO', 'SHIFT_INVALID', 'SHIFT_OVERFLOW', 'SHIFT_UNDERFLOW', 'ScalarType', 'True_', 'UFUNC_BUFSIZE_DEFAULT', 'UFUNC_PYVALS_NAME', 'WRAP', '_CopyMode', '_NoValue', '_UFUNC_API', '__NUMPY_SETUP__', '__all__', '__builtins__', '__cached__', '__config__', '__deprecated_attrs__', '__dir__', '__doc__', '__expired_functions__', '__file__', '__former_attrs__', '__future_scalars__', '__getattr__', '__loader__', '__name__', '__package__', '__path__', '__spec__', '__version__', '_add_newdoc_ufunc', '_builtins', '_distributor_init', '_financial_names', '_get_promotion_state', '_globals', '_int_extended_msg', '_mat', '_no_nep50_warning', '_pyinstaller_hooks_dir', '_pytesttester', '_set_promotion_state', '_specific_msg', '_typing', '_using_numpy2_behavior', '_utils', 'abs', 'absolute', 'add', 'add_docstring', 'add_newdoc', 'add_newdoc_ufunc', 'all', 'allclose', 'alltrue', 'amax', 'amin', 'angle', 'any', 'append', 'apply_along_axis', 'apply_over_axes', 'arange', 'arccos', 'arccosh', 'arcsin', 'arcsinh', 'arctan', 'arctan2', 'arctanh', 'argmax', 'argmin', 'argpartition', 'argsort', 'argwhere', 'around', 'array', 'array2string', 'array_equal', 'array_equiv', 'array_repr', 'array_split', 'array_str', 'asanyarray', 'asarray', 'asarray_chkfinite', 'ascontiguousarray', 'asfarray', 'asfortranarray', 'asmatrix', 'atleast_1d', 'atleast_2d', 'atleast_3d', 'average', 'bartlett', 'base_repr', 'binary_repr', 'bincount', 'bitwise_and', 'bitwise_not', 'bitwise_or', 'bitwise_xor', 'blackman', 'block', 'bmat', 'bool_', 'broadcast', 'broadcast_arrays', 'broadcast_shapes', 'broadcast_to', 'busday_count', 'busday_offset', 'busdaycalendar', 'byte', 'byte_bounds', 'bytes_', 'c_', 'can_cast', 'cast', 'cbrt', 'cdouble', 'ceil', 'cfloat', 'char', 'character', 'chararray', 'choose', 'clip', 'clongdouble', 'clongfloat', 'column_stack', 'common_type', 'compare_chararrays', 'compat', 'complex128', 'complex64', 'complex_', 'complexfloating', 'compress', 'concatenate', 'conj', 'conjugate', 'convolve', 'copy', 'copysign', 'copyto', 'corrcoef', 'correlate', 'cos', 'cosh', 'count_nonzero', 'cov', 'cross', 'csingle', 'ctypeslib', 'cumprod', 'cumproduct', 'cumsum', 'datetime64', 'datetime_as_string', 'datetime_data', 'deg2rad', 'degrees', 'delete', 'deprecate', 'deprecate_with_doc', 'diag', 'diag_indices', 'diag_indices_from', 'diagflat', 'diagonal', 'diff', 'digitize', 'disp', 'divide', 'divmod', 'dot', 'double', 'dsplit', 'dstack', 'dtype', 'dtypes', 'e', 'ediff1d', 'einsum', 'einsum_path', 'emath', 'empty', 'empty_like', 'equal', 'errstate', 'euler_gamma', 'exceptions', 'exp', 'exp2', 'expand_dims', 'expm1', 'extract', 'eye', 'fabs', 'fastCopyAndTranspose', 'fft', 'fill_diagonal', 'find_common_type', 'finfo', 'fix', 'flatiter', 'flatnonzero', 'flexible', 'flip', 'fliplr', 'flipud', 'float16', 'float32', 'float64', 'float_', 'float_power', 'floating', 'floor', 'floor_divide', 'fmax', 'fmin', 'fmod', 'format_float_positional', 'format_float_scientific', 'format_parser', 'frexp', 'from_dlpack', 'frombuffer', 'fromfile', 'fromfunction', 'fromiter', 'frompyfunc', 'fromregex', 'fromstring', 'full', 'full_like', 'gcd', 'generic', 'genfromtxt', 'geomspace', 'get_array_wrap', 'get_include', 'get_printoptions', 'getbufsize', 'geterr', 'geterrcall', 'geterrobj', 'gradient', 'greater', 'greater_equal', 'half', 'hamming', 'hanning', 'heaviside', 'histogram', 'histogram2d', 'histogram_bin_edges', 'histogramdd', 'hsplit', 'hstack', 'hypot', 'i0', 'identity', 'iinfo', 'imag', 'in1d', 'index_exp', 'indices', 'inexact', 'inf', 'info', 'infty', 'inner', 'insert', 'int16', 'int32', 'int64', 'int8', 'int_', 'intc', 'integer', 'interp', 'intersect1d', 'intp', 'invert', 'is_busday', 'isclose', 'iscomplex', 'iscomplexobj', 'isfinite', 'isfortran', 'isin', 'isinf', 'isnan', 'isnat', 'isneginf', 'isposinf', 'isreal', 'isrealobj', 'isscalar', 'issctype', 'issubclass_', 'issubdtype', 'issubsctype', 'iterable', 'ix_', 'kaiser', 'kron', 'lcm', 'ldexp', 'left_shift', 'less', 'less_equal', 'lexsort', 'lib', 'linalg', 'linspace', 'little_endian', 'load', 'loadtxt', 'log', 'log10', 'log1p', 'log2', 'logaddexp', 'logaddexp2', 'logical_and', 'logical_not', 'logical_or', 'logical_xor', 'logspace', 'longcomplex', 'longdouble', 'longfloat', 'longlong', 'lookfor', 'ma', 'mask_indices', 'mat', 'matmul', 'matrix', 'max', 'maximum', 'maximum_sctype', 'may_share_memory', 'mean', 'median', 'memmap', 'meshgrid', 'mgrid', 'min', 'min_scalar_type', 'minimum', 'mintypecode', 'mod', 'modf', 'moveaxis', 'msort', 'multiply', 'nan', 'nan_to_num', 'nanargmax', 'nanargmin', 'nancumprod', 'nancumsum', 'nanmax', 'nanmean', 'nanmedian', 'nanmin', 'nanpercentile', 'nanprod', 'nanquantile', 'nanstd', 'nansum', 'nanvar', 'nbytes', 'ndarray', 'ndenumerate', 'ndim', 'ndindex', 'nditer', 'negative', 'nested_iters', 'newaxis', 'nextafter', 'nonzero', 'not_equal', 'numarray', 'number', 'obj2sctype', 'object_', 'ogrid', 'oldnumeric', 'ones', 'ones_like', 'outer', 'packbits', 'pad', 'partition', 'percentile', 'pi', 'piecewise', 'place', 'poly', 'poly1d', 'polyadd', 'polyder', 'polydiv', 'polyfit', 'polyint', 'polymul', 'polynomial', 'polysub', 'polyval', 'positive', 'power', 'printoptions', 'prod', 'product', 'promote_types', 'ptp', 'put', 'put_along_axis', 'putmask', 'quantile', 'r_', 'rad2deg', 'radians', 'random', 'ravel', 'ravel_multi_index', 'real', 'real_if_close', 'rec', 'recarray', 'recfromcsv', 'recfromtxt', 'reciprocal', 'record', 'remainder', 'repeat', 'require', 'reshape', 'resize', 'result_type', 'right_shift', 'rint', 'roll', 'rollaxis', 'roots', 'rot90', 'round', 'round_', 'row_stack', 's_', 'safe_eval', 'save', 'savetxt', 'savez', 'savez_compressed', 'sctype2char', 'sctypeDict', 'sctypes', 'searchsorted', 'select', 'set_numeric_ops', 'set_printoptions', 'set_string_function', 'setbufsize', 'setdiff1d', 'seterr', 'seterrcall', 'seterrobj', 'setxor1d', 'shape', 'shares_memory', 'short', 'show_config', 'show_runtime', 'sign', 'signbit', 'signedinteger', 'sin', 'sinc', 'single', 'singlecomplex', 'sinh', 'size', 'sometrue', 'sort', 'sort_complex', 'source', 'spacing', 'split', 'sqrt', 'square', 'squeeze', 'stack', 'std', 'str_', 'string_', 'subtract', 'sum', 'swapaxes', 'take', 'take_along_axis', 'tan', 'tanh', 'tensordot', 'test', 'testing', 'tile', 'timedelta64', 'trace', 'tracemalloc_domain', 'transpose', 'trapz', 'tri', 'tril', 'tril_indices', 'tril_indices_from', 'trim_zeros', 'triu', 'triu_indices', 'triu_indices_from', 'true_divide', 'trunc', 'typecodes', 'typename', 'ubyte', 'ufunc', 'uint', 'uint16', 'uint32', 'uint64', 'uint8', 'uintc', 'uintp', 'ulonglong', 'unicode_', 'union1d', 'unique', 'unpackbits', 'unravel_index', 'unsignedinteger', 'unwrap', 'ushort', 'vander', 'var', 'vdot', 'vectorize', 'version', 'void', 'vsplit', 'vstack', 'where', 'who', 'zeros', 'zeros_like']\n"
     ]
    }
   ],
   "source": [
    "print(dir(np))"
   ]
  },
  {
   "cell_type": "code",
   "execution_count": 21,
   "id": "bae767a4-f989-4f4f-a722-9ab578dbfbed",
   "metadata": {},
   "outputs": [
    {
     "name": "stdout",
     "output_type": "stream",
     "text": [
      "[1. 1. 1. 1. 1. 1.]\n"
     ]
    }
   ],
   "source": [
    "y = np.ones(6) #6 means columns\n",
    "print(y)"
   ]
  },
  {
   "cell_type": "code",
   "execution_count": 22,
   "id": "8bda435d-4d42-4c46-b127-1f8fe935622e",
   "metadata": {},
   "outputs": [
    {
     "name": "stdout",
     "output_type": "stream",
     "text": [
      "[[1. 1.]\n",
      " [1. 1.]\n",
      " [1. 1.]]\n"
     ]
    }
   ],
   "source": [
    "y = np.ones((3,2))\n",
    "print(y)"
   ]
  },
  {
   "cell_type": "code",
   "execution_count": 23,
   "id": "f268982a-998e-4b8e-b6e6-09c38dd0f4eb",
   "metadata": {},
   "outputs": [
    {
     "name": "stdout",
     "output_type": "stream",
     "text": [
      "[[1 1 1 1 1]\n",
      " [1 1 1 1 1]\n",
      " [1 1 1 1 1]]\n"
     ]
    }
   ],
   "source": [
    "z = np.ones((3,5), dtype = int)\n",
    "print(z)"
   ]
  },
  {
   "cell_type": "code",
   "execution_count": 24,
   "id": "c075220c-fbf5-4a9b-8ccc-2eb9c20ffa9a",
   "metadata": {},
   "outputs": [
    {
     "name": "stdout",
     "output_type": "stream",
     "text": [
      "[[0. 0. 0. 0. 0.]\n",
      " [0. 0. 0. 0. 0.]\n",
      " [0. 0. 0. 0. 0.]]\n"
     ]
    }
   ],
   "source": [
    "z1 = np.zeros((3,5), dtype = float)\n",
    "print(z1)"
   ]
  },
  {
   "cell_type": "code",
   "execution_count": 25,
   "id": "8999b771-33bb-4a4d-b64e-7df53c4996fa",
   "metadata": {},
   "outputs": [
    {
     "name": "stdout",
     "output_type": "stream",
     "text": [
      "[['' '' '' '' '']\n",
      " ['' '' '' '' '']\n",
      " ['' '' '' '' '']]\n"
     ]
    }
   ],
   "source": [
    "z1_1 = np.zeros((3,5), dtype = str)\n",
    "print(z1_1)"
   ]
  },
  {
   "cell_type": "code",
   "execution_count": 26,
   "id": "845b72ba-af6f-43af-93b0-cadd7df05a87",
   "metadata": {},
   "outputs": [
    {
     "name": "stdout",
     "output_type": "stream",
     "text": [
      "[['1' '1' '1' '1']\n",
      " ['1' '1' '1' '1']\n",
      " ['1' '1' '1' '1']]\n"
     ]
    }
   ],
   "source": [
    "z2 = np.ones((3,4), dtype = str)\n",
    "print(z2)"
   ]
  },
  {
   "cell_type": "code",
   "execution_count": 27,
   "id": "255a16bb-fe51-4932-ac84-433773a224f3",
   "metadata": {},
   "outputs": [
    {
     "name": "stdout",
     "output_type": "stream",
     "text": [
      "[[ True  True  True  True]\n",
      " [ True  True  True  True]\n",
      " [ True  True  True  True]]\n"
     ]
    }
   ],
   "source": [
    "z3 = np.ones((3,4), dtype = bool)\n",
    "print(z3)"
   ]
  },
  {
   "cell_type": "markdown",
   "id": "e4abe930-825a-4db0-a421-f81dad2addb7",
   "metadata": {},
   "source": [
    "**np.arange(start, end, step)** #step not necessary as default step is 1"
   ]
  },
  {
   "cell_type": "code",
   "execution_count": 28,
   "id": "48ac7e49-0557-475e-b2a7-0c8d2ca7b19c",
   "metadata": {},
   "outputs": [
    {
     "name": "stdout",
     "output_type": "stream",
     "text": [
      "[ 1  2  3  4  5  6  7  8  9 10 11 12 13 14 15 16 17 18 19]\n"
     ]
    }
   ],
   "source": [
    "a = np.arange(1,20)\n",
    "print(a)"
   ]
  },
  {
   "cell_type": "code",
   "execution_count": 29,
   "id": "94e62ac1-211c-4f32-9879-c5145a8683db",
   "metadata": {},
   "outputs": [],
   "source": [
    "a = np.arange(1,20,2)"
   ]
  },
  {
   "cell_type": "code",
   "execution_count": 30,
   "id": "deb224a3-a149-49cf-8398-92219db5e040",
   "metadata": {},
   "outputs": [
    {
     "name": "stdout",
     "output_type": "stream",
     "text": [
      "[ 1  3  5  7  9 11 13 15 17 19]\n"
     ]
    }
   ],
   "source": [
    "print(a)"
   ]
  },
  {
   "cell_type": "code",
   "execution_count": 31,
   "id": "ca9dd8e4-5bf5-4106-ad1d-72313382b334",
   "metadata": {},
   "outputs": [
    {
     "name": "stdout",
     "output_type": "stream",
     "text": [
      "[ 2  4  6  8 10 12 14 16 18]\n"
     ]
    }
   ],
   "source": [
    "a = np.arange(2,20,2)\n",
    "print(a)"
   ]
  },
  {
   "cell_type": "markdown",
   "id": "81f33458-4664-4a6e-8a32-02484776caae",
   "metadata": {},
   "source": [
    "**arr.reshape((rows,cols))**"
   ]
  },
  {
   "cell_type": "code",
   "execution_count": 32,
   "id": "25c335b1-41a7-4dd6-baef-6a5e1e26c45b",
   "metadata": {},
   "outputs": [
    {
     "name": "stdout",
     "output_type": "stream",
     "text": [
      "[[ 2  4  6]\n",
      " [ 8 10 12]\n",
      " [14 16 18]]\n"
     ]
    }
   ],
   "source": [
    "a = a.reshape((3,3))\n",
    "print(a)"
   ]
  },
  {
   "cell_type": "markdown",
   "id": "de83fb01-fada-4e12-8607-705484172eec",
   "metadata": {},
   "source": [
    "**arr.flatten()** \n",
    "'''will convert a multidimensional array to 1D array'''"
   ]
  },
  {
   "cell_type": "code",
   "execution_count": 33,
   "id": "fc077260-9913-48d8-aa80-f3c6c090b1d7",
   "metadata": {},
   "outputs": [],
   "source": [
    "a = a.flatten()"
   ]
  },
  {
   "cell_type": "code",
   "execution_count": 34,
   "id": "aa559c02-45d0-4970-bcd7-de216f1ff051",
   "metadata": {},
   "outputs": [
    {
     "name": "stdout",
     "output_type": "stream",
     "text": [
      "[ 2  4  6  8 10 12 14 16 18]\n"
     ]
    }
   ],
   "source": [
    "print(a)"
   ]
  },
  {
   "cell_type": "markdown",
   "id": "9c1227a6-60ff-4174-8fc1-ef32024390e2",
   "metadata": {},
   "source": [
    "**arr.ravel()** <br>\n",
    "i) Return only reference/view of original array <br>\n",
    "ii) If you modify the array you would notice that the value of original array also changes. <br>\n",
    "iii) Ravel is faster than flatten() as it does not occupy any memory. <br>\n",
    "iv) Ravel is a library -level function. <br>"
   ]
  },
  {
   "cell_type": "markdown",
   "id": "df79e334-54df-4768-9710-fad8f2cd2bb6",
   "metadata": {},
   "source": [
    "**arr.flatten()** <br>\n",
    "i) Return copy of original array <br>\n",
    "ii) If you modify the array the original array is not affected. <br>\n",
    "iii) Flatten is slower than ravel as it occupies memory. <br>\n",
    "iv) Flatten is a method of ndarray object. <br>"
   ]
  },
  {
   "cell_type": "markdown",
   "id": "d507a7ad-af6e-49d0-957d-0b7806d422ea",
   "metadata": {},
   "source": [
    "# NUMPY Slicing"
   ]
  },
  {
   "cell_type": "code",
   "execution_count": 35,
   "id": "72212ba1-ae9a-4032-bc2c-b29cb51816df",
   "metadata": {},
   "outputs": [
    {
     "name": "stdout",
     "output_type": "stream",
     "text": [
      "[[ 1  2  3  4  5]\n",
      " [ 6  7  8  9 10]\n",
      " [11 12 13 14 15]\n",
      " [16 17 18 19 20]\n",
      " [21 22 23 24 25]\n",
      " [26 27 28 29 30]\n",
      " [31 32 33 34 35]\n",
      " [36 37 38 39 40]\n",
      " [41 42 43 44 45]\n",
      " [46 47 48 49 50]]\n"
     ]
    }
   ],
   "source": [
    "a = np.arange(1,51)\n",
    "a = a.reshape(10,5)\n",
    "print(a)"
   ]
  },
  {
   "cell_type": "code",
   "execution_count": 36,
   "id": "fe2f48ab-710c-4114-ab4d-40c5e13ae3da",
   "metadata": {},
   "outputs": [
    {
     "data": {
      "text/plain": [
       "array([1, 2, 3, 4, 5])"
      ]
     },
     "execution_count": 36,
     "metadata": {},
     "output_type": "execute_result"
    }
   ],
   "source": [
    "a[0]"
   ]
  },
  {
   "cell_type": "code",
   "execution_count": 37,
   "id": "5d05210c-2fac-4922-bcce-0fbcebdc016c",
   "metadata": {},
   "outputs": [
    {
     "data": {
      "text/plain": [
       "array([11, 12, 13, 14, 15])"
      ]
     },
     "execution_count": 37,
     "metadata": {},
     "output_type": "execute_result"
    }
   ],
   "source": [
    "a[2]"
   ]
  },
  {
   "cell_type": "code",
   "execution_count": 38,
   "id": "8f6d33bc-dddc-4f58-9b5a-27425ef49844",
   "metadata": {},
   "outputs": [
    {
     "data": {
      "text/plain": [
       "1"
      ]
     },
     "execution_count": 38,
     "metadata": {},
     "output_type": "execute_result"
    }
   ],
   "source": [
    "a[0][0]"
   ]
  },
  {
   "cell_type": "code",
   "execution_count": 39,
   "id": "2ff8c5f5-b5bd-4db7-97c4-06664b2d2148",
   "metadata": {},
   "outputs": [
    {
     "data": {
      "text/plain": [
       "array([[11, 12, 13, 14, 15],\n",
       "       [16, 17, 18, 19, 20],\n",
       "       [21, 22, 23, 24, 25]])"
      ]
     },
     "execution_count": 39,
     "metadata": {},
     "output_type": "execute_result"
    }
   ],
   "source": [
    "a[2:5]"
   ]
  },
  {
   "cell_type": "code",
   "execution_count": 40,
   "id": "bea8d9fd-1f86-4494-9d1b-f4d3cfa4e5b3",
   "metadata": {},
   "outputs": [
    {
     "data": {
      "text/plain": [
       "array([ 3,  8, 13, 18, 23, 28, 33, 38, 43, 48])"
      ]
     },
     "execution_count": 40,
     "metadata": {},
     "output_type": "execute_result"
    }
   ],
   "source": [
    "a[:,2]"
   ]
  },
  {
   "cell_type": "code",
   "execution_count": 41,
   "id": "9c7a28e9-93f2-4db0-bbb5-5d04a46756cc",
   "metadata": {},
   "outputs": [
    {
     "data": {
      "text/plain": [
       "array([[13, 14],\n",
       "       [18, 19]])"
      ]
     },
     "execution_count": 41,
     "metadata": {},
     "output_type": "execute_result"
    }
   ],
   "source": [
    "a[2:4,2:4]"
   ]
  },
  {
   "cell_type": "markdown",
   "id": "4097f5b2-8cc8-4d10-b150-6947ea4ac720",
   "metadata": {},
   "source": [
    "# Mathematical operations"
   ]
  },
  {
   "cell_type": "code",
   "execution_count": 42,
   "id": "70384969-b614-47a7-83e5-64ed6480d3e7",
   "metadata": {},
   "outputs": [
    {
     "name": "stdout",
     "output_type": "stream",
     "text": [
      "[[9 1 6]\n",
      " [3 5 3]\n",
      " [7 5 1]]\n",
      "\n",
      "[[9 5 3]\n",
      " [1 7 6]\n",
      " [8 9 2]]\n"
     ]
    }
   ],
   "source": [
    "a= np.random.randint(1,10,(3,3))\n",
    "b= np.random.randint(1,10,(3,3))\n",
    "print(a)\n",
    "print()\n",
    "print(b)"
   ]
  },
  {
   "cell_type": "code",
   "execution_count": 43,
   "id": "1438baf8-56e6-4d10-85f0-f81cccbd4cef",
   "metadata": {},
   "outputs": [
    {
     "data": {
      "text/plain": [
       "array([[18,  6,  9],\n",
       "       [ 4, 12,  9],\n",
       "       [15, 14,  3]])"
      ]
     },
     "execution_count": 43,
     "metadata": {},
     "output_type": "execute_result"
    }
   ],
   "source": [
    "a+b"
   ]
  },
  {
   "cell_type": "code",
   "execution_count": 44,
   "id": "fe8b1494-2d46-4a98-b75e-e0f84329e92e",
   "metadata": {},
   "outputs": [
    {
     "name": "stdout",
     "output_type": "stream",
     "text": [
      "[[18  6  9]\n",
      " [ 4 12  9]\n",
      " [15 14  3]]\n"
     ]
    }
   ],
   "source": [
    "c = a+b\n",
    "print(c)"
   ]
  },
  {
   "cell_type": "code",
   "execution_count": 45,
   "id": "4fab2209-b8b0-4d9d-930f-7966b12a118c",
   "metadata": {},
   "outputs": [
    {
     "data": {
      "text/plain": [
       "array([[18,  6,  9],\n",
       "       [ 4, 12,  9],\n",
       "       [15, 14,  3]])"
      ]
     },
     "execution_count": 45,
     "metadata": {},
     "output_type": "execute_result"
    }
   ],
   "source": [
    "np.add(a,b)"
   ]
  },
  {
   "cell_type": "code",
   "execution_count": 46,
   "id": "087c4cdd-dd67-4bbe-b8d2-dd23e1e8bd08",
   "metadata": {},
   "outputs": [],
   "source": [
    "# a+b = np.add(a,b)\n",
    "# a-b = np.subtract(a,b)"
   ]
  },
  {
   "cell_type": "code",
   "execution_count": 47,
   "id": "b537a3e5-1524-4217-82b8-c2bd1b30daa0",
   "metadata": {},
   "outputs": [
    {
     "data": {
      "text/plain": [
       "array([[ 0, -4,  3],\n",
       "       [ 2, -2, -3],\n",
       "       [-1, -4, -1]])"
      ]
     },
     "execution_count": 47,
     "metadata": {},
     "output_type": "execute_result"
    }
   ],
   "source": [
    "a-b"
   ]
  },
  {
   "cell_type": "code",
   "execution_count": 48,
   "id": "1bde8f9e-8d3e-47f2-bb0f-3325c8330b22",
   "metadata": {},
   "outputs": [
    {
     "data": {
      "text/plain": [
       "array([[81,  5, 18],\n",
       "       [ 3, 35, 18],\n",
       "       [56, 45,  2]])"
      ]
     },
     "execution_count": 48,
     "metadata": {},
     "output_type": "execute_result"
    }
   ],
   "source": [
    "#multiplication\n",
    "np.multiply(a,b)"
   ]
  },
  {
   "cell_type": "code",
   "execution_count": 49,
   "id": "e00507f6-d5a7-4139-a37f-fa5d58ba900b",
   "metadata": {},
   "outputs": [
    {
     "name": "stdout",
     "output_type": "stream",
     "text": [
      "res1\n",
      " [[130 106  45]\n",
      " [ 56  77  45]\n",
      " [ 76  79  53]]\n",
      "\n",
      "res2\n",
      " [[130 106  45]\n",
      " [ 56  77  45]\n",
      " [ 76  79  53]]\n",
      "\n",
      "res3\n",
      " [[130 106  45]\n",
      " [ 56  77  45]\n",
      " [ 76  79  53]]\n",
      "\n"
     ]
    }
   ],
   "source": [
    "#matrix multiplication\n",
    "\n",
    "#method 1\n",
    "res1 = a@b\n",
    "print(\"res1\\n\",res1)\n",
    "print()\n",
    "\n",
    "#method 2\n",
    "res2 = a.dot(b)\n",
    "print(\"res2\\n\", res2)\n",
    "print()\n",
    "\n",
    "#method 3\n",
    "res3 = np.dot(a,b)\n",
    "print(\"res3\\n\", res3)\n",
    "print()\n"
   ]
  },
  {
   "cell_type": "code",
   "execution_count": null,
   "id": "2f068ffc-bfcf-46d7-91a5-144ac84cd837",
   "metadata": {},
   "outputs": [],
   "source": []
  },
  {
   "cell_type": "markdown",
   "id": "c7691837-928a-4cda-81b1-0496a311bf34",
   "metadata": {},
   "source": [
    "# Printing Max element of a matrix row wise"
   ]
  },
  {
   "cell_type": "code",
   "execution_count": 50,
   "id": "55bcd669-29c8-4a25-8645-05cbffd43a00",
   "metadata": {},
   "outputs": [
    {
     "name": "stdout",
     "output_type": "stream",
     "text": [
      "[[9 1 6]\n",
      " [3 5 3]\n",
      " [7 5 1]]\n",
      "\n",
      "[9 1 6]\n",
      "9\n",
      "[3 5 3]\n",
      "5\n",
      "[7 5 1]\n",
      "7\n"
     ]
    },
    {
     "ename": "IndexError",
     "evalue": "index 3 is out of bounds for axis 0 with size 3",
     "output_type": "error",
     "traceback": [
      "\u001b[1;31m---------------------------------------------------------------------------\u001b[0m",
      "\u001b[1;31mIndexError\u001b[0m                                Traceback (most recent call last)",
      "Input \u001b[1;32mIn [50]\u001b[0m, in \u001b[0;36m<cell line: 3>\u001b[1;34m()\u001b[0m\n\u001b[0;32m      2\u001b[0m \u001b[38;5;28mprint\u001b[39m()\n\u001b[0;32m      3\u001b[0m \u001b[38;5;28;01mfor\u001b[39;00m i \u001b[38;5;129;01min\u001b[39;00m \u001b[38;5;28mrange\u001b[39m(\u001b[38;5;241m4\u001b[39m):\n\u001b[1;32m----> 4\u001b[0m     \u001b[38;5;28mprint\u001b[39m(\u001b[43ma\u001b[49m\u001b[43m[\u001b[49m\u001b[43mi\u001b[49m\u001b[43m,\u001b[49m\u001b[43m:\u001b[49m\u001b[43m]\u001b[49m)\n\u001b[0;32m      5\u001b[0m     \u001b[38;5;28mprint\u001b[39m(np\u001b[38;5;241m.\u001b[39mmax(a[i,:]))\n",
      "\u001b[1;31mIndexError\u001b[0m: index 3 is out of bounds for axis 0 with size 3"
     ]
    }
   ],
   "source": [
    "print(a)\n",
    "print()\n",
    "for i in range(4):\n",
    "    print(a[i,:])\n",
    "    print(np.max(a[i,:]))"
   ]
  },
  {
   "cell_type": "markdown",
   "id": "6b4a9c1a-355f-492a-965a-87fe8b803d10",
   "metadata": {},
   "source": []
  },
  {
   "cell_type": "code",
   "execution_count": null,
   "id": "6a2fc1b9-1ee1-4234-9c7c-22fb1a9dadcd",
   "metadata": {},
   "outputs": [],
   "source": [
    "print(a)\n",
    "print()\n",
    "for i in range(4):\n",
    "    print(a[:,i])\n",
    "    print(np.max(a[:, i]))"
   ]
  },
  {
   "cell_type": "code",
   "execution_count": null,
   "id": "64c999b0-2296-4761-b393-b571f7ca443c",
   "metadata": {},
   "outputs": [],
   "source": [
    "b.max()"
   ]
  },
  {
   "cell_type": "code",
   "execution_count": null,
   "id": "541b6198-b790-4893-a8bb-28dbae40a4b1",
   "metadata": {},
   "outputs": [],
   "source": [
    "b.min()"
   ]
  },
  {
   "cell_type": "code",
   "execution_count": null,
   "id": "0427fc27-4ea8-437f-8550-1f5d85c6027b",
   "metadata": {},
   "outputs": [],
   "source": [
    "b.argmax() #it will return the index at which the maximum value is present"
   ]
  },
  {
   "cell_type": "code",
   "execution_count": null,
   "id": "d0a6e1ca-d19c-43a1-8e03-f285755894f6",
   "metadata": {},
   "outputs": [],
   "source": [
    "np.sum(b)"
   ]
  },
  {
   "cell_type": "code",
   "execution_count": null,
   "id": "5fd4894e-709c-45db-81b7-5560d82eba7a",
   "metadata": {},
   "outputs": [],
   "source": [
    "np.sum(b, axis = 1) # axis = 1 -> row, axis = 0 -> columns)"
   ]
  },
  {
   "cell_type": "code",
   "execution_count": null,
   "id": "8d20ce3f-0871-4ab4-99bb-a1b94a1770dd",
   "metadata": {},
   "outputs": [],
   "source": [
    "np.mean(b) "
   ]
  },
  {
   "cell_type": "code",
   "execution_count": null,
   "id": "75bf4d88-af91-4873-9fd6-cbaad2f9771c",
   "metadata": {},
   "outputs": [],
   "source": [
    "np.sqrt(b) # return the square root of each element"
   ]
  },
  {
   "cell_type": "code",
   "execution_count": null,
   "id": "40da24c9-0835-4c8b-8645-77f3934bd774",
   "metadata": {},
   "outputs": [],
   "source": [
    "np.std(b) #return the standard deviation of all the elements of b"
   ]
  },
  {
   "cell_type": "code",
   "execution_count": null,
   "id": "8cbbac8c-40d9-4e3a-ae00-55abdfdb21fd",
   "metadata": {},
   "outputs": [],
   "source": [
    "np.log(a) #return the log of each element"
   ]
  },
  {
   "cell_type": "markdown",
   "id": "2dfee68c-9936-4a9a-b5ac-722044373db4",
   "metadata": {},
   "source": [
    "# Trigonometric Functions"
   ]
  },
  {
   "cell_type": "code",
   "execution_count": null,
   "id": "da705a8c-3dcd-4b1c-a2ec-b349ba872ab2",
   "metadata": {},
   "outputs": [],
   "source": [
    "import matplotlib.pyplot as plt\n",
    "import numpy as np"
   ]
  },
  {
   "cell_type": "code",
   "execution_count": null,
   "id": "efd2a96e-c120-4a01-834d-98295f856185",
   "metadata": {},
   "outputs": [],
   "source": [
    "np.pi"
   ]
  },
  {
   "cell_type": "code",
   "execution_count": null,
   "id": "e85ccdcb-3d6e-4113-b0cf-5e491af8c4bc",
   "metadata": {},
   "outputs": [],
   "source": [
    "np.sin(np.pi/2)"
   ]
  },
  {
   "cell_type": "code",
   "execution_count": null,
   "id": "0ddf8864-c83c-414c-a95e-ab2fe19c9065",
   "metadata": {},
   "outputs": [],
   "source": [
    "np.sin(np.pi/6)"
   ]
  },
  {
   "cell_type": "code",
   "execution_count": null,
   "id": "a1132a52-2594-4f05-9e1e-0283b8580a22",
   "metadata": {},
   "outputs": [],
   "source": [
    "np.cos(np.pi/2)   "
   ]
  },
  {
   "cell_type": "code",
   "execution_count": null,
   "id": "7fdd7983-c9fa-4345-b527-ae1f0ba21fbd",
   "metadata": {},
   "outputs": [],
   "source": [
    "np.tan(np.pi/2)  #Huge value"
   ]
  },
  {
   "cell_type": "code",
   "execution_count": null,
   "id": "309cf9e2-7676-4636-b52a-19fb6a476b64",
   "metadata": {},
   "outputs": [],
   "source": [
    "np.tan(0)"
   ]
  },
  {
   "cell_type": "markdown",
   "id": "3dfde209-32cf-4e71-bd1d-ed0eb8b276e5",
   "metadata": {},
   "source": [
    "**Basic Matplotlib function**"
   ]
  },
  {
   "cell_type": "code",
   "execution_count": null,
   "id": "9fa8e733-1e0b-479c-b33f-daa75c441b3f",
   "metadata": {},
   "outputs": [],
   "source": [
    "x = np.arange(1,11)\n",
    "y = np.arange(10,110,10)\n",
    "\n",
    "plt.figure(figsize = (6,6))\n",
    "plt.plot(x,y, 'r--')\n",
    "plt.show()"
   ]
  },
  {
   "cell_type": "markdown",
   "id": "599ecc7a-7efd-4cf7-a50e-b39fa5209c3e",
   "metadata": {},
   "source": [
    "**Trigonometric Functions using matplotlib**"
   ]
  },
  {
   "cell_type": "code",
   "execution_count": null,
   "id": "7e455272-5984-406e-b8f1-abe3fc578ae8",
   "metadata": {},
   "outputs": [],
   "source": [
    "x_sin = np.arange(0,2*np.pi,0.1)\n",
    "y_sin = np.sin(x_sin)\n",
    "print(y_sin)"
   ]
  },
  {
   "cell_type": "code",
   "execution_count": null,
   "id": "8ac05ad3-e949-4254-92b4-d304fe3fad27",
   "metadata": {},
   "outputs": [],
   "source": [
    "plt.figure(figsize = (6,6))\n",
    "plt.plot(x_sin, y_sin)\n",
    "plt.title(\"Sin Curve\")\n",
    "plt.show()"
   ]
  },
  {
   "cell_type": "code",
   "execution_count": null,
   "id": "8a7272bc-bcd2-4e60-b93d-fe4d0faefbc3",
   "metadata": {},
   "outputs": [],
   "source": [
    "x_cos = np.arange(0,2*np.pi,0.1)\n",
    "y_cos = np.cos(x_cos)\n",
    "print(y_cos)\n",
    "plt.figure(figsize = (6,6))\n",
    "plt.plot(x_cos, y_cos)\n",
    "plt.title(\"Cos Curve\")\n",
    "plt.show()"
   ]
  },
  {
   "cell_type": "code",
   "execution_count": null,
   "id": "cc531def-b43d-42dd-b5fe-4974e0ea3442",
   "metadata": {},
   "outputs": [],
   "source": [
    "x_tan = np.arange(0,2*np.pi,0.1)\n",
    "y_tan = np.tan(x_tan)\n",
    "print(y_tan)\n",
    "plt.figure(figsize = (6,6))\n",
    "plt.plot(x_tan, y_tan)\n",
    "plt.title(\"Tan Curve\")\n",
    "plt.show()"
   ]
  },
  {
   "cell_type": "code",
   "execution_count": null,
   "id": "eb670d7f-4889-4ef0-a03a-338fb829a2a2",
   "metadata": {},
   "outputs": [],
   "source": [
    "x_cot = np.arange(0,2*np.pi,0.1)\n",
    "y_cot = 1/np.tan(x_cot)\n",
    "\n",
    "plt.figure(figsize = (6,6))\n",
    "plt.plot(x_cot, y_cot)\n",
    "plt.title(\"Cot Curve\")\n",
    "plt.show()"
   ]
  },
  {
   "cell_type": "markdown",
   "id": "a0d2678b-6d13-4eb6-a457-704f4936cddf",
   "metadata": {},
   "source": [
    "**Subplot**"
   ]
  },
  {
   "cell_type": "code",
   "execution_count": null,
   "id": "aac91e1d-55a2-48c9-ba3f-7888360059d3",
   "metadata": {},
   "outputs": [],
   "source": [
    "plt.figure(figsize = (8,8))\n",
    "plt.subplot(2,2,1)\n",
    "plt.plot(x_sin, y_sin, 'r--')\n",
    "plt.title(\"Sin curve\")\n",
    "\n",
    "plt.subplot(2,2,2)\n",
    "plt.plot(x_cos, y_cos)\n",
    "plt.title(\"Cos curve\")\n",
    "\n",
    "plt.subplot(2,2,3)\n",
    "plt.plot(x_tan, y_tan)\n",
    "plt.title(\"Tan curve\")\n",
    "\n",
    "plt.subplot(2,2,4)\n",
    "plt.plot(x_cot, y_cot)\n",
    "plt.title(\"Cot curve\")\n",
    "\n",
    "plt.show()"
   ]
  },
  {
   "cell_type": "code",
   "execution_count": null,
   "id": "2f54043e-86b6-4bdc-b997-eeea567d7a16",
   "metadata": {},
   "outputs": [],
   "source": []
  },
  {
   "cell_type": "markdown",
   "id": "468c8ab4-745f-48e5-bf6b-cc0d0721b5d0",
   "metadata": {},
   "source": [
    "# Random Operations"
   ]
  },
  {
   "cell_type": "code",
   "execution_count": null,
   "id": "0d5b05ba-4341-4a2e-acaa-d6719b77184d",
   "metadata": {},
   "outputs": [],
   "source": [
    "np.random.random(1)"
   ]
  },
  {
   "cell_type": "code",
   "execution_count": null,
   "id": "1f781383-506d-42b1-9ffa-4def0d41e745",
   "metadata": {},
   "outputs": [],
   "source": [
    "np.random.random(2)"
   ]
  },
  {
   "cell_type": "code",
   "execution_count": null,
   "id": "fc25e722-f04e-42f4-b1c9-daefec063ca6",
   "metadata": {},
   "outputs": [],
   "source": [
    "np.random.random((2,2))"
   ]
  },
  {
   "cell_type": "code",
   "execution_count": null,
   "id": "04ee45e7-30df-4e11-8675-fd4ea545ceb9",
   "metadata": {},
   "outputs": [],
   "source": [
    "np.random.randint(1,10)"
   ]
  },
  {
   "cell_type": "code",
   "execution_count": null,
   "id": "d5b8a151-fdc3-4640-bb0e-1ef123a7f6a4",
   "metadata": {},
   "outputs": [],
   "source": [
    "np.random.randint(1,10, (2,2))"
   ]
  },
  {
   "cell_type": "code",
   "execution_count": null,
   "id": "9526c76b-8780-4c12-bac5-9952628b2130",
   "metadata": {},
   "outputs": [],
   "source": [
    "np.random.randint(1,10,(3,4,5))"
   ]
  },
  {
   "cell_type": "code",
   "execution_count": null,
   "id": "602c7f58-3f89-46e9-a4a9-dd987a29f895",
   "metadata": {},
   "outputs": [],
   "source": [
    "np.random.rand(2,2)"
   ]
  },
  {
   "cell_type": "code",
   "execution_count": null,
   "id": "03ff14b1-82fe-4be2-bca7-0dccb653c3e6",
   "metadata": {},
   "outputs": [],
   "source": [
    "np.random.randn(2,2)"
   ]
  },
  {
   "cell_type": "code",
   "execution_count": null,
   "id": "b53aa55c-1e5d-4e45-b2af-67fe12ab9a62",
   "metadata": {},
   "outputs": [],
   "source": [
    "a = np.arange(1,10)\n",
    "print(a)"
   ]
  },
  {
   "cell_type": "code",
   "execution_count": null,
   "id": "bfd1da8c-988f-4a16-8dae-64ce37429b53",
   "metadata": {},
   "outputs": [],
   "source": [
    "np.random.choice(a)"
   ]
  },
  {
   "cell_type": "markdown",
   "id": "9f4db21d-afdd-4afa-8f47-27054fd976c8",
   "metadata": {},
   "source": [
    "  # String Operations"
   ]
  },
  {
   "cell_type": "code",
   "execution_count": null,
   "id": "84678ab0-9b7b-4b1b-a04b-2fa92c117d61",
   "metadata": {},
   "outputs": [],
   "source": [
    "s1 = \"Abhra\"\n",
    "s2 = \"neel\""
   ]
  },
  {
   "cell_type": "code",
   "execution_count": null,
   "id": "1964a29f-c72d-47af-9fb4-ff9234abbdbe",
   "metadata": {},
   "outputs": [],
   "source": [
    "np.char.add(s1,s2)"
   ]
  },
  {
   "cell_type": "code",
   "execution_count": null,
   "id": "4f072022-ba51-46bc-ab5b-69f134df0d56",
   "metadata": {},
   "outputs": [],
   "source": [
    "np.char.upper(s1)"
   ]
  },
  {
   "cell_type": "code",
   "execution_count": null,
   "id": "47fb2d6b-032a-445f-b81e-ecd9b36432e3",
   "metadata": {},
   "outputs": [],
   "source": [
    "np.char.lower(s1)"
   ]
  },
  {
   "cell_type": "code",
   "execution_count": null,
   "id": "6c22e175-9373-46c4-b084-6863b5fb6025",
   "metadata": {},
   "outputs": [],
   "source": [
    "np.char.split(s1)"
   ]
  },
  {
   "cell_type": "code",
   "execution_count": null,
   "id": "793b804c-08a7-4c77-8549-133791d0f27f",
   "metadata": {},
   "outputs": [],
   "source": [
    "np.char.replace(s1, '','#')"
   ]
  },
  {
   "cell_type": "code",
   "execution_count": null,
   "id": "110392f5-abae-4124-9dd6-f7ef6ac111d8",
   "metadata": {},
   "outputs": [],
   "source": [
    "print(np.char.center('A', 8,'*'))"
   ]
  },
  {
   "cell_type": "code",
   "execution_count": null,
   "id": "54b0b428-b7b8-4031-a99c-e2068fade29c",
   "metadata": {},
   "outputs": [],
   "source": [
    "import pandas as pd"
   ]
  },
  {
   "cell_type": "code",
   "execution_count": null,
   "id": "0a8dcdec-2531-4884-ad7c-b1a1b5a74e60",
   "metadata": {},
   "outputs": [],
   "source": []
  }
 ],
 "metadata": {
  "kernelspec": {
   "display_name": "Python 3 (ipykernel)",
   "language": "python",
   "name": "python3"
  },
  "language_info": {
   "codemirror_mode": {
    "name": "ipython",
    "version": 3
   },
   "file_extension": ".py",
   "mimetype": "text/x-python",
   "name": "python",
   "nbconvert_exporter": "python",
   "pygments_lexer": "ipython3",
   "version": "3.10.6"
  }
 },
 "nbformat": 4,
 "nbformat_minor": 5
}
